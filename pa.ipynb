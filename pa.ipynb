{
 "cells": [
  {
   "cell_type": "code",
   "execution_count": 1,
   "metadata": {
    "collapsed": false
   },
   "outputs": [
    {
     "name": "stdout",
     "output_type": "stream",
     "text": [
      "Populating the interactive namespace from numpy and matplotlib\n"
     ]
    }
   ],
   "source": [
    "%pylab inline\n",
    "import tensorflow as tf"
   ]
  },
  {
   "cell_type": "markdown",
   "metadata": {},
   "source": [
    "## Data input and formating"
   ]
  },
  {
   "cell_type": "code",
   "execution_count": 2,
   "metadata": {
    "collapsed": false
   },
   "outputs": [
    {
     "name": "stdout",
     "output_type": "stream",
     "text": [
      "38 22\n"
     ]
    }
   ],
   "source": [
    "S = \"\"\"100\t100\t16\t100\t100\t100\t100\t100\t100\t100\t100\t9\t100\t13\t14\t12\t100\t100\t100\t100\t1\t2\t3\t15\t100\t10\t100\t8\t7\t100\t11\t6\t5\t4\t100\t100\t100\t17\t\n",
    "7\t100\t100\t100\t100\t100\t100\t100\t100\t100\t100\t100\t100\t100\t10\t4\t100\t100\t5\t100\t8\t3\t100\t100\t100\t9\t100\t1\t6\t100\t100\t100\t100\t2\t100\t100\t100\t100\t\n",
    "100\t100\t100\t100\t100\t100\t100\t100\t100\t100\t100\t100\t100\t100\t100\t100\t100\t100\t100\t100\t100\t8\t100\t9\t100\t100\t100\t3\t2\t4\t1\t5\t7\t6\t100\t100\t100\t100\t\n",
    "100\t100\t100\t100\t100\t100\t100\t100\t100\t100\t100\t100\t100\t100\t100\t100\t100\t100\t100\t1\t100\t100\t100\t100\t100\t100\t100\t100\t100\t100\t100\t3\t100\t100\t2\t4\t5\t100\t\n",
    "1\t100\t100\t100\t2\t100\t100\t100\t100\t3\t100\t4\t100\t100\t100\t100\t100\t100\t100\t100\t100\t5\t100\t100\t100\t100\t100\t100\t100\t100\t100\t100\t6\t100\t100\t100\t100\t100\t\n",
    "3\t4\t24\t25\t8\t7\t26\t27\t28\t29\t30\t31\t32\t33\t34\t35\t12\t13\t14\t15\t36\t37\t38\t10\t11\t16\t17\t5\t6\t9\t18\t19\t20\t21\t1\t2\t22\t23\t\n",
    "100\t100\t100\t100\t100\t100\t100\t8\t100\t100\t9\t100\t100\t100\t7\t1\t100\t100\t100\t100\t100\t10\t100\t100\t100\t2\t3\t100\t5\t4\t6\t100\t100\t100\t100\t100\t100\t100\t\n",
    "100\t100\t100\t100\t100\t100\t100\t100\t2\t1\t9\t8\t100\t100\t100\t7\t6\t100\t5\t10\t100\t100\t3\t100\t100\t100\t4\t100\t100\t100\t100\t100\t100\t100\t100\t100\t100\t100\t\n",
    "38\t37\t36\t35\t34\t1\t2\t3\t4\t5\t6\t7\t8\t9\t10\t11\t12\t13\t14\t15\t16\t17\t18\t19\t20\t21\t22\t23\t24\t25\t26\t27\t28\t29\t30\t31\t32\t33\t\n",
    "38\t37\t36\t35\t34\t33\t32\t1\t2\t3\t4\t5\t31\t6\t7\t30\t29\t28\t8\t9\t10\t11\t12\t13\t14\t15\t16\t17\t18\t19\t20\t21\t27\t22\t23\t24\t25\t26\t\n",
    "100\t100\t100\t100\t100\t100\t100\t100\t8\t7\t100\t100\t100\t100\t100\t100\t100\t100\t100\t100\t100\t100\t100\t100\t100\t100\t100\t100\t100\t4\t1\t2\t6\t100\t5\t3\t100\t100\t\n",
    "100\t100\t100\t100\t100\t100\t4\t100\t100\t100\t100\t100\t100\t5\t100\t100\t100\t100\t100\t100\t100\t100\t100\t100\t1\t2\t3\t100\t100\t100\t100\t100\t100\t100\t100\t100\t100\t100\t\n",
    "3\t4\t1\t2\t5\t7\t6\t8\t100\t100\t100\t100\t100\t100\t100\t100\t100\t100\t100\t100\t100\t100\t100\t100\t100\t100\t100\t100\t100\t100\t100\t100\t100\t100\t100\t100\t100\t100\t\n",
    "100\t100\t100\t100\t100\t100\t100\t100\t100\t100\t100\t100\t8\t100\t100\t2\t100\t100\t4\t3\t100\t100\t6\t100\t5\t7\t1\t100\t100\t10\t12\t100\t100\t11\t13\t100\t100\t9\t\n",
    "100\t100\t100\t100\t11\t100\t100\t100\t100\t100\t100\t100\t100\t6\t5\t2\t100\t100\t100\t10\t4\t3\t100\t100\t9\t100\t1\t100\t100\t7\t100\t100\t100\t100\t100\t8\t100\t100\t\n",
    "24\t32\t33\t34\t35\t21\t7\t23\t6\t9\t22\t4\t12\t18\t19\t1\t20\t28\t2\t15\t38\t37\t16\t36\t10\t17\t3\t11\t13\t25\t14\t8\t26\t5\t30\t31\t27\t29\t\n",
    "100\t100\t100\t100\t2\t100\t100\t100\t100\t100\t100\t100\t100\t100\t100\t100\t100\t100\t100\t100\t1\t100\t100\t100\t100\t100\t100\t100\t100\t100\t100\t100\t100\t100\t100\t100\t100\t100\t\n",
    "37\t36\t35\t34\t32\t28\t29\t30\t27\t31\t26\t1\t21\t22\t10\t13\t20\t23\t24\t25\t2\t12\t11\t3\t15\t4\t100\t16\t5\t18\t17\t6\t14\t19\t7\t8\t9\t33\t\n",
    "100\t100\t100\t100\t4\t1\t2\t3\t5\t8\t6\t7\t100\t100\t100\t100\t100\t100\t100\t100\t100\t100\t100\t100\t100\t100\t100\t100\t100\t100\t100\t100\t100\t100\t100\t100\t100\t100\t\n",
    "100\t100\t10\t5\t100\t8\t100\t2\t100\t7\t3\t100\t100\t9\t4\t1\t100\t100\t100\t100\t100\t100\t100\t100\t100\t100\t6\t100\t100\t100\t100\t100\t100\t100\t100\t100\t100\t100\t\n",
    "100\t100\t100\t100\t100\t100\t100\t100\t100\t100\t100\t100\t100\t100\t100\t100\t4\t100\t2\t3\t100\t1\t100\t100\t100\t100\t100\t100\t100\t9\t6\t5\t8\t7\t100\t100\t100\t100\t\n",
    "100\t100\t100\t100\t100\t100\t100\t2\t3\t100\t100\t100\t100\t100\t4\t100\t100\t100\t100\t100\t100\t100\t100\t100\t100\t100\t100\t100\t100\t100\t100\t1\t5\t100\t100\t100\t100\t100\t\"\"\"\n",
    "\n",
    "N_STUDENTS = int(S.count('\\n')+1)\n",
    "N_PAPERS = int(S.count('\\t')/N_STUDENTS)\n",
    "print( N_PAPERS, N_STUDENTS)\n",
    "M = np.fromstring(S.replace('\\n',''),sep='\\t').reshape((N_STUDENTS,N_PAPERS))\n",
    "M -= 1\n",
    "M[M>=7] = 100\n",
    "S = \"\"\"0 true\n",
    "1 false\n",
    "2 false\n",
    "3 false\n",
    "4 true\n",
    "5 false\n",
    "6 true\n",
    "7 false\n",
    "8 true\n",
    "9 false\n",
    "10 false\n",
    "11 true\n",
    "12 false\n",
    "13 false\n",
    "14 true\n",
    "15 true\n",
    "16 false\n",
    "17 true\n",
    "18 false\n",
    "19 false\n",
    "20 true\n",
    "21 false\"\"\"\n",
    "V = ['true' in l for l in S.split('\\n')]"
   ]
  },
  {
   "cell_type": "markdown",
   "metadata": {},
   "source": [
    "There are only a few papers that are not that popular:"
   ]
  },
  {
   "cell_type": "code",
   "execution_count": 3,
   "metadata": {
    "collapsed": false
   },
   "outputs": [
    {
     "name": "stdout",
     "output_type": "stream",
     "text": [
      "[   0.    3.    0.    1.    1.    0.    1.    0.    1.    0.    2.    0.\n",
      "  100.    4.    3.    0.    3.  100.    1.    0.    0.    0.    2.    2.\n",
      "    0.    1.    0.    0.    1.    3.    0.    0.    4.    1.    0.    1.\n",
      "    4.  100.]\n"
     ]
    }
   ],
   "source": [
    "print( np.min(M,axis=0) )"
   ]
  },
  {
   "cell_type": "markdown",
   "metadata": {},
   "source": [
    "Now we need to make sure that some students get a chance to present a second paper. If there is still not enough volunteers we pad the votes with zeros."
   ]
  },
  {
   "cell_type": "code",
   "execution_count": 4,
   "metadata": {
    "collapsed": false
   },
   "outputs": [
    {
     "name": "stdout",
     "output_type": "stream",
     "text": [
      "7 Papers remain (padding)\n"
     ]
    }
   ],
   "source": [
    "SECOND_WEIGHT = 0.33\n",
    "# Duplicating the voluneers\n",
    "names = [str(i) for i in range(N_STUDENTS)]\n",
    "MM = list(M)\n",
    "for n,v in enumerate(V):\n",
    "    if v:\n",
    "        names.append(str(n))\n",
    "        MM.append(SECOND_WEIGHT * MM[n])\n",
    "\n",
    "N_ORIG_STUDENTS = N_STUDENTS\n",
    "N_ADD = int(np.sum(V))\n",
    "N_REMAIN = N_PAPERS - len(MM)\n",
    "print( N_REMAIN, 'Papers remain (padding)')\n",
    "# Pad\n",
    "for i in range(N_PAPERS - len(MM)):\n",
    "    names.append('-')\n",
    "    MM.append(0*MM[0])\n",
    "M = np.array(MM)\n"
   ]
  },
  {
   "cell_type": "code",
   "execution_count": 5,
   "metadata": {
    "collapsed": false
   },
   "outputs": [],
   "source": [
    "# Break ties\n",
    "M = M + np.random.normal(scale=0.1, size=M.shape)"
   ]
  },
  {
   "cell_type": "code",
   "execution_count": 6,
   "metadata": {
    "collapsed": false
   },
   "outputs": [
    {
     "name": "stdout",
     "output_type": "stream",
     "text": [
      "38 38\n"
     ]
    }
   ],
   "source": [
    "# N_PAPERS = 25\n",
    "# N_STUDENTS = N_PAPERS\n",
    "N_VOTES = 7\n",
    "DEPTH = 2\n",
    "N_STUDENTS,N_PAPERS = M.shape\n",
    "SHARE_VARIABLES = None\n",
    "print( N_STUDENTS, N_PAPERS)\n",
    "\n",
    "def randomVote():\n",
    "    return [np.random.choice(N_PAPERS,size=N_VOTES,replace=False) for i in range(N_STUDENTS)]\n",
    "    \n",
    "\n",
    "def pref2score(p, default=2*N_VOTES):\n",
    "    r = np.ones(N_PAPERS)*default\n",
    "    for i,j in enumerate(p):\n",
    "        assert r[j] >= default-1, \"Duplicate vote!\"\n",
    "        r[j] = i\n",
    "    return r"
   ]
  },
  {
   "cell_type": "markdown",
   "metadata": {},
   "source": [
    "## Deep net setup"
   ]
  },
  {
   "cell_type": "code",
   "execution_count": 7,
   "metadata": {
    "collapsed": false
   },
   "outputs": [
    {
     "name": "stdout",
     "output_type": "stream",
     "text": [
      "[66.385498, 95.129272, 89.423973]\n"
     ]
    }
   ],
   "source": [
    "rank_cost = tf.placeholder(tf.float32, shape=(N_STUDENTS,N_PAPERS))\n",
    "# Break ties\n",
    "# rank_cost = rank_cost + tf.random_normal(rank_cost.get_shape(), stddev=0.1)\n",
    "rank_mask = tf.cast(tf.less_equal(rank_cost, tf.constant(N_VOTES, dtype=np.float32)), tf.float32)\n",
    "\n",
    "def bi_stochastic_vote(score, mask, nit=10):\n",
    "    F = tf.reshape(score, (-1,N_STUDENTS,N_PAPERS))\n",
    "    P = tf.exp(F - tf.reduce_max(F,1)) * tf.reshape(mask, (-1,N_STUDENTS,N_PAPERS))\n",
    "    P = (P+1e-5) / (tf.reduce_sum(P, 2, keep_dims=True)+1e-5)\n",
    "    for i in range(nit):\n",
    "        P = (P+1e-5) / (tf.reduce_sum(P, 1, keep_dims=True)+1e-5)\n",
    "        P = (P+1e-5) / (tf.reduce_sum(P, 2, keep_dims=True)+1e-5)\n",
    "    return P\n",
    "\n",
    "F = -rank_cost\n",
    "S = bi_stochastic_vote(F, rank_mask)\n",
    "features = [ F ]\n",
    "scores = [ S ]\n",
    "losses = [ tf.reduce_sum(S*tf.reshape(rank_cost, (-1,N_STUDENTS,N_PAPERS))) ]\n",
    "for it in range(DEPTH):\n",
    "    F = tf.reshape(F, (-1,N_PAPERS*N_STUDENTS))\n",
    "    R  = tf.reshape(rank_cost, (-1,N_PAPERS*N_STUDENTS))\n",
    "    F = tf.concat(1, [F,R])\n",
    "    \n",
    "    for j,n in enumerate([512,512,N_PAPERS*N_STUDENTS]):\n",
    "        if j>0: F = tf.nn.relu(F)\n",
    "        if SHARE_VARIABLES is not None:\n",
    "            if 'fc_%d'%(j) not in SHARE_VARIABLES:\n",
    "                SHARE_VARIABLES['fc_%d'%(j)] = tf.Variable(tf.random_normal((F.get_shape().as_list()[1], n), stddev=0.01), name='fc_%d'%(j))\n",
    "            if 'b_%d'%(j) not in SHARE_VARIABLES:\n",
    "                SHARE_VARIABLES['b_%d'%(j)] = tf.Variable(tf.random_normal((n,), stddev=0.01), name='b_%d'%(j))\n",
    "            K, B = SHARE_VARIABLES['fc_%d'%(j)], SHARE_VARIABLES['b_%d'%(j)]\n",
    "        else:\n",
    "            K = tf.Variable(tf.random_normal((F.get_shape().as_list()[1], n), stddev=0.01), name='fc_%d_%d'%(it,j))\n",
    "            B = tf.Variable(tf.random_normal((n,), stddev=0.01), name='b_%d_%d'%(it,j))\n",
    "        F = tf.nn.bias_add(tf.matmul(F,K), B)\n",
    "#         F = tf.matmul(F,K)\n",
    "    features.append(F)\n",
    "    S = bi_stochastic_vote(F, rank_mask)\n",
    "    L = tf.reduce_sum(S*rank_cost)\n",
    "    scores.append(S)\n",
    "    losses.append(L)\n",
    "\n",
    "with tf.Session() as sess:\n",
    "    sess.run(tf.initialize_all_variables())\n",
    "    R = sess.run(losses, {rank_cost: M})\n",
    "    print( R )"
   ]
  },
  {
   "cell_type": "markdown",
   "metadata": {},
   "source": [
    "## Training and finetuning\n",
    "This mostly solves an LP assignment problem as training with random examples is a bit too hard."
   ]
  },
  {
   "cell_type": "code",
   "execution_count": 8,
   "metadata": {
    "collapsed": false
   },
   "outputs": [
    {
     "name": "stdout",
     "output_type": "stream",
     "text": [
      "Pre training\n",
      "0 [48.407284, 116.86378, 117.64473]\n",
      "100 [38.061493, 111.03502, 110.87108]\n",
      "200 [45.804714, 115.70773, 116.47478]\n",
      "300 [46.914375, 115.2184, 117.70612]\n",
      "400 [44.252647, 110.90558, 111.55632]\n",
      "500 [54.664062, 117.76218, 117.06051]\n",
      "600 [46.643688, 115.77333, 113.47456]\n",
      "700 [48.546612, 120.58443, 118.38308]\n",
      "800 [46.531029, 116.17007, 117.11416]\n",
      "900 [50.095272, 115.97076, 116.20419]\n",
      "Fine tuning\n",
      "0 [66.385498, 125.74483, 226.85457]\n",
      "100 [66.385506, 41.365372, 37.959064]\n",
      "200 [66.385498, 35.881584, 37.684181]\n",
      "300 [66.385498, 35.837315, 37.683617]\n",
      "400 [66.385498, 35.836884, 37.469166]\n",
      "500 [66.385498, 35.771351, 37.428238]\n",
      "600 [66.385506, 35.744961, 37.377426]\n",
      "700 [66.385506, 35.742531, 37.376587]\n",
      "800 [66.385498, 35.653763, 35.578705]\n",
      "900 [66.385498, 35.122135, 35.51215]\n",
      "[66.385498, 34.991589, 35.461254]\n"
     ]
    },
    {
     "data": {
      "image/png": "[encoded data removed]",
      "text/plain": [
       "<matplotlib.figure.Figure at 0x7f2d802c3c88>"
      ]
     },
     "metadata": {},
     "output_type": "display_data"
    },
    {
     "data": {
      "image/png": "[encoded data removed]",
      "text/plain": [
       "<matplotlib.figure.Figure at 0x7f2d9bced390>"
      ]
     },
     "metadata": {},
     "output_type": "display_data"
    }
   ],
   "source": [
    "adam = tf.train.AdamOptimizer(1e-4)\n",
    "step = adam.minimize(tf.add_n(losses))\n",
    "\n",
    "with tf.Session() as sess:\n",
    "    sess.run(tf.initialize_all_variables())\n",
    "    # Train on random examples\n",
    "    print(\"Pre training\")\n",
    "    for it in range(1000):\n",
    "        random_score = np.array([pref2score(p) for p in randomVote()])\n",
    "        \n",
    "        vals = sess.run(losses+[step], {rank_cost: random_score})\n",
    "        if it % 100 == 0:\n",
    "            print( it, vals[:len(losses)] )\n",
    "    \n",
    "    # Fine tune on single example\n",
    "    print(\"Fine tuning\")\n",
    "    for it in range(1000):\n",
    "        vals = sess.run(losses+[step], {rank_cost: M})\n",
    "        if it % 100 == 0:\n",
    "            print( it, vals[:len(losses)] )\n",
    "            \n",
    "            \n",
    "    loss_vals = sess.run(losses, {rank_cost: M})\n",
    "    score_vals = sess.run(scores, {rank_cost: M})\n",
    "    print( loss_vals )\n",
    "    figure(figsize=(10,20))\n",
    "    imshow(np.maximum(N_VOTES-M,1), interpolation='nearest')\n",
    "    figure(figsize=(10,20))\n",
    "    for i,s in enumerate(score_vals):\n",
    "        subplot(1,len(scores),i+1)\n",
    "        imshow(s[0], interpolation='nearest')\n"
   ]
  },
  {
   "cell_type": "markdown",
   "metadata": {},
   "source": [
    "## Greedy assignment\n",
    "Since we want a {0,1} assignment instead of a relaxed assignment we greedily select the most confident votes."
   ]
  },
  {
   "cell_type": "code",
   "execution_count": 9,
   "metadata": {
    "collapsed": false
   },
   "outputs": [
    {
     "name": "stdout",
     "output_type": "stream",
     "text": [
      "greedy baseline\n",
      "527.895611124\n",
      "{0: 33, 1: 27, 2: 37, 3: 19, 4: 32, 5: 1, 6: 29, 7: 9, 8: 8, 9: 7, 10: 30, 11: 13, 12: 2, 13: 26, 14: 12, 15: 17, 16: 4, 17: 36, 18: 10, 19: 15, 20: 3, 21: 31, 22: 20, 23: 0, 24: 25, 25: 6, 26: 24, 27: 14, 28: 18, 29: 23, 30: 21, 31: 16, 32: 35, 33: 34, 34: 28, 35: 22, 36: 11, 37: 5}\n",
      "\n",
      "\n",
      "deep net\n",
      "19.5540754199\n",
      "{0: 20, 1: 27, 2: 30, 3: 19, 4: 0, 5: 34, 6: 25, 7: 9, 8: 6, 9: 8, 10: 35, 11: 24, 12: 2, 13: 15, 14: 26, 15: 18, 16: 4, 17: 23, 18: 5, 19: 7, 20: 21, 21: 31, 22: 22, 23: 32, 24: 29, 25: 10, 26: 13, 27: 14, 28: 33, 29: 11, 30: 16, 31: 17, 32: 37, 33: 12, 34: 3, 35: 28, 36: 36, 37: 1}\n"
     ]
    }
   ],
   "source": [
    "def assign_rand(s):\n",
    "    s = np.squeeze(s)\n",
    "    paper2student = {}\n",
    "    for i in np.random.permutation(N_STUDENTS):\n",
    "        for j in np.argsort(s[i])[::-1]:\n",
    "            if j not in paper2student:\n",
    "                paper2student[j] = i\n",
    "                break\n",
    "    student2paper = {}\n",
    "    for i in np.random.permutation(N_PAPERS):\n",
    "        student2paper[paper2student[i]] = i\n",
    "    return student2paper\n",
    "\n",
    "def best_assign(s):\n",
    "    best_A = assign_rand(s)\n",
    "    best_loss = np.sum([M[i,best_A[i]] for i in range(N_STUDENTS)])\n",
    "    for it in range(100):\n",
    "        A = assign(s)\n",
    "        loss = np.sum([M[i,A[i]] for i in range(N_STUDENTS)])\n",
    "        if loss < best_loss:\n",
    "            best_loss = loss\n",
    "            best_A = A\n",
    "    return best_A\n",
    "\n",
    "def assign(s):\n",
    "    s = np.squeeze(s)\n",
    "    paper_used = set()\n",
    "    student2paper = {}\n",
    "    for i in np.argsort(s.ravel())[::-1]:\n",
    "        s, p = i // N_PAPERS, i % N_PAPERS\n",
    "        if p in paper_used or s in student2paper:\n",
    "            continue\n",
    "        paper_used.add(p)\n",
    "        student2paper[s] = p\n",
    "    return student2paper\n",
    "\n",
    "print('greedy baseline')\n",
    "A = assign(-M)\n",
    "print( np.sum([M[i,A[i]] for i in range(N_STUDENTS)]) )\n",
    "print( A )\n",
    "\n",
    "print()\n",
    "print()\n",
    "print('deep net')\n",
    "A = assign(s)\n",
    "print( np.sum([M[i,A[i]] for i in range(N_STUDENTS)]) )\n",
    "print( A )"
   ]
  },
  {
   "cell_type": "markdown",
   "metadata": {},
   "source": [
    "## Visualization and output"
   ]
  },
  {
   "cell_type": "code",
   "execution_count": 10,
   "metadata": {
    "collapsed": false
   },
   "outputs": [
    {
     "data": {
      "text/plain": [
       "(array([ 13.,   0.,   0.,   0.,   0.,   7.,   0.,   0.,   0.,   2.]),\n",
       " array([ 0. ,  0.2,  0.4,  0.6,  0.8,  1. ,  1.2,  1.4,  1.6,  1.8,  2. ]),\n",
       " <a list of 10 Patch objects>)"
      ]
     },
     "execution_count": 10,
     "metadata": {},
     "output_type": "execute_result"
    },
    {
     "data": {
      "image/png": "[encoded data removed]",
      "text/plain": [
       "<matplotlib.figure.Figure at 0x7f2e3ef10ef0>"
      ]
     },
     "metadata": {},
     "output_type": "display_data"
    }
   ],
   "source": [
    "# Number of first picks\n",
    "hist( [np.round(M[i,A[i]]) for i in range(N_ORIG_STUDENTS)] )"
   ]
  },
  {
   "cell_type": "code",
   "execution_count": 11,
   "metadata": {
    "collapsed": false
   },
   "outputs": [
    {
     "data": {
      "text/plain": [
       "(array([ 1.,  0.,  1.,  0.,  0.,  3.,  0.,  3.,  0.,  1.]),\n",
       " array([ 1. ,  1.4,  1.8,  2.2,  2.6,  3. ,  3.4,  3.8,  4.2,  4.6,  5. ]),\n",
       " <a list of 10 Patch objects>)"
      ]
     },
     "execution_count": 11,
     "metadata": {},
     "output_type": "execute_result"
    },
    {
     "data": {
      "image/png": "[encoded data removed]",
      "text/plain": [
       "<matplotlib.figure.Figure at 0x7f2d9bcedcc0>"
      ]
     },
     "metadata": {},
     "output_type": "display_data"
    }
   ],
   "source": [
    "# Number of first picks second presentation\n",
    "hist( [np.round(M[i,A[i]]/SECOND_WEIGHT) for i in range(N_ORIG_STUDENTS,N_ORIG_STUDENTS+N_ADD)] )"
   ]
  },
  {
   "cell_type": "code",
   "execution_count": 12,
   "metadata": {
    "collapsed": false
   },
   "outputs": [
    {
     "data": {
      "text/plain": [
       "{0: 20,\n",
       " 1: 27,\n",
       " 2: 30,\n",
       " 3: 19,\n",
       " 4: 0,\n",
       " 5: 34,\n",
       " 6: 25,\n",
       " 7: 9,\n",
       " 8: 6,\n",
       " 9: 8,\n",
       " 10: 35,\n",
       " 11: 24,\n",
       " 12: 2,\n",
       " 13: 15,\n",
       " 14: 26,\n",
       " 15: 18,\n",
       " 16: 4,\n",
       " 17: 23,\n",
       " 18: 5,\n",
       " 19: 7,\n",
       " 20: 21,\n",
       " 21: 31,\n",
       " 22: 22,\n",
       " 23: 32,\n",
       " 24: 29,\n",
       " 25: 10,\n",
       " 26: 13,\n",
       " 27: 14,\n",
       " 28: 33,\n",
       " 29: 11,\n",
       " 30: 16,\n",
       " 31: 17,\n",
       " 32: 37,\n",
       " 33: 12,\n",
       " 34: 3,\n",
       " 35: 28,\n",
       " 36: 36,\n",
       " 37: 1}"
      ]
     },
     "execution_count": 12,
     "metadata": {},
     "output_type": "execute_result"
    }
   ],
   "source": [
    "A"
   ]
  },
  {
   "cell_type": "code",
   "execution_count": null,
   "metadata": {
    "collapsed": true
   },
   "outputs": [],
   "source": []
  }
 ],
 "metadata": {
  "kernelspec": {
   "display_name": "Python 3",
   "language": "python",
   "name": "python3"
  },
  "language_info": {
   "codemirror_mode": {
    "name": "ipython",
    "version": 3
   },
   "file_extension": ".py",
   "mimetype": "text/x-python",
   "name": "python",
   "nbconvert_exporter": "python",
   "pygments_lexer": "ipython3",
   "version": "3.5.2"
  }
 },
 "nbformat": 4,
 "nbformat_minor": 0
}
